{
 "cells": [
  {
   "cell_type": "code",
   "execution_count": 2,
   "metadata": {},
   "outputs": [],
   "source": [
    "import pandas_datareader.wb as wb\n",
    "data1 = wb.search(string='SE.PRM.TENR', field='id')"
   ]
  },
  {
   "cell_type": "code",
   "execution_count": 3,
   "metadata": {},
   "outputs": [
    {
     "data": {
      "text/html": [
       "<div>\n",
       "<style scoped>\n",
       "    .dataframe tbody tr th:only-of-type {\n",
       "        vertical-align: middle;\n",
       "    }\n",
       "\n",
       "    .dataframe tbody tr th {\n",
       "        vertical-align: top;\n",
       "    }\n",
       "\n",
       "    .dataframe thead th {\n",
       "        text-align: right;\n",
       "    }\n",
       "</style>\n",
       "<table border=\"1\" class=\"dataframe\">\n",
       "  <thead>\n",
       "    <tr style=\"text-align: right;\">\n",
       "      <th></th>\n",
       "      <th>id</th>\n",
       "      <th>name</th>\n",
       "      <th>source</th>\n",
       "      <th>sourceNote</th>\n",
       "      <th>sourceOrganization</th>\n",
       "      <th>topics</th>\n",
       "      <th>unit</th>\n",
       "    </tr>\n",
       "  </thead>\n",
       "  <tbody>\n",
       "    <tr>\n",
       "      <th>8924</th>\n",
       "      <td>SE.PRM.TENR</td>\n",
       "      <td>Adjusted net enrollment rate, primary (% of pr...</td>\n",
       "      <td>World Development Indicators</td>\n",
       "      <td>Adjusted net enrollment is the number of pupil...</td>\n",
       "      <td>UNESCO Institute for Statistics</td>\n",
       "      <td>Education</td>\n",
       "      <td></td>\n",
       "    </tr>\n",
       "    <tr>\n",
       "      <th>8925</th>\n",
       "      <td>SE.PRM.TENR.FE</td>\n",
       "      <td>Adjusted net enrollment rate, primary, female ...</td>\n",
       "      <td>World Development Indicators</td>\n",
       "      <td>Adjusted net enrollment is the number of pupil...</td>\n",
       "      <td>UNESCO Institute for Statistics</td>\n",
       "      <td>Education  ; Gender</td>\n",
       "      <td></td>\n",
       "    </tr>\n",
       "    <tr>\n",
       "      <th>8926</th>\n",
       "      <td>SE.PRM.TENR.MA</td>\n",
       "      <td>Adjusted net enrollment rate, primary, male (%...</td>\n",
       "      <td>World Development Indicators</td>\n",
       "      <td>Adjusted net enrollment is the number of pupil...</td>\n",
       "      <td>UNESCO Institute for Statistics</td>\n",
       "      <td>Education  ; Gender</td>\n",
       "      <td></td>\n",
       "    </tr>\n",
       "  </tbody>\n",
       "</table>\n",
       "</div>"
      ],
      "text/plain": [
       "                  id                                               name  \\\n",
       "8924     SE.PRM.TENR  Adjusted net enrollment rate, primary (% of pr...   \n",
       "8925  SE.PRM.TENR.FE  Adjusted net enrollment rate, primary, female ...   \n",
       "8926  SE.PRM.TENR.MA  Adjusted net enrollment rate, primary, male (%...   \n",
       "\n",
       "                            source  \\\n",
       "8924  World Development Indicators   \n",
       "8925  World Development Indicators   \n",
       "8926  World Development Indicators   \n",
       "\n",
       "                                             sourceNote  \\\n",
       "8924  Adjusted net enrollment is the number of pupil...   \n",
       "8925  Adjusted net enrollment is the number of pupil...   \n",
       "8926  Adjusted net enrollment is the number of pupil...   \n",
       "\n",
       "                   sourceOrganization               topics unit  \n",
       "8924  UNESCO Institute for Statistics           Education        \n",
       "8925  UNESCO Institute for Statistics  Education  ; Gender       \n",
       "8926  UNESCO Institute for Statistics  Education  ; Gender       "
      ]
     },
     "execution_count": 3,
     "metadata": {},
     "output_type": "execute_result"
    }
   ],
   "source": [
    "data1"
   ]
  },
  {
   "cell_type": "code",
   "execution_count": 5,
   "metadata": {},
   "outputs": [
    {
     "data": {
      "text/html": [
       "<div>\n",
       "<style scoped>\n",
       "    .dataframe tbody tr th:only-of-type {\n",
       "        vertical-align: middle;\n",
       "    }\n",
       "\n",
       "    .dataframe tbody tr th {\n",
       "        vertical-align: top;\n",
       "    }\n",
       "\n",
       "    .dataframe thead th {\n",
       "        text-align: right;\n",
       "    }\n",
       "</style>\n",
       "<table border=\"1\" class=\"dataframe\">\n",
       "  <thead>\n",
       "    <tr style=\"text-align: right;\">\n",
       "      <th></th>\n",
       "      <th>source</th>\n",
       "      <th>sourceNote</th>\n",
       "      <th>sourceOrganization</th>\n",
       "      <th>topics</th>\n",
       "      <th>unit</th>\n",
       "    </tr>\n",
       "  </thead>\n",
       "  <tbody>\n",
       "    <tr>\n",
       "      <th>8924</th>\n",
       "      <td>World Development Indicators</td>\n",
       "      <td>Adjusted net enrollment is the number of pupil...</td>\n",
       "      <td>UNESCO Institute for Statistics</td>\n",
       "      <td>Education</td>\n",
       "      <td></td>\n",
       "    </tr>\n",
       "    <tr>\n",
       "      <th>8925</th>\n",
       "      <td>World Development Indicators</td>\n",
       "      <td>Adjusted net enrollment is the number of pupil...</td>\n",
       "      <td>UNESCO Institute for Statistics</td>\n",
       "      <td>Education  ; Gender</td>\n",
       "      <td></td>\n",
       "    </tr>\n",
       "    <tr>\n",
       "      <th>8926</th>\n",
       "      <td>World Development Indicators</td>\n",
       "      <td>Adjusted net enrollment is the number of pupil...</td>\n",
       "      <td>UNESCO Institute for Statistics</td>\n",
       "      <td>Education  ; Gender</td>\n",
       "      <td></td>\n",
       "    </tr>\n",
       "  </tbody>\n",
       "</table>\n",
       "</div>"
      ],
      "text/plain": [
       "                            source  \\\n",
       "8924  World Development Indicators   \n",
       "8925  World Development Indicators   \n",
       "8926  World Development Indicators   \n",
       "\n",
       "                                             sourceNote  \\\n",
       "8924  Adjusted net enrollment is the number of pupil...   \n",
       "8925  Adjusted net enrollment is the number of pupil...   \n",
       "8926  Adjusted net enrollment is the number of pupil...   \n",
       "\n",
       "                   sourceOrganization               topics unit  \n",
       "8924  UNESCO Institute for Statistics           Education        \n",
       "8925  UNESCO Institute for Statistics  Education  ; Gender       \n",
       "8926  UNESCO Institute for Statistics  Education  ; Gender       "
      ]
     },
     "execution_count": 5,
     "metadata": {},
     "output_type": "execute_result"
    }
   ],
   "source": [
    "data1.iloc[:,2:]"
   ]
  },
  {
   "cell_type": "code",
   "execution_count": 9,
   "metadata": {},
   "outputs": [
    {
     "data": {
      "text/plain": [
       "8924    Adjusted net enrollment rate, primary (% of pr...\n",
       "8925    Adjusted net enrollment rate, primary, female ...\n",
       "8926    Adjusted net enrollment rate, primary, male (%...\n",
       "Name: name, dtype: object"
      ]
     },
     "execution_count": 9,
     "metadata": {},
     "output_type": "execute_result"
    }
   ],
   "source": [
    "data1.iloc[:,1]"
   ]
  },
  {
   "cell_type": "code",
   "execution_count": 11,
   "metadata": {},
   "outputs": [
    {
     "data": {
      "text/plain": [
       "u'Adjusted net enrollment rate, primary (% of primary school age children)'"
      ]
     },
     "execution_count": 11,
     "metadata": {},
     "output_type": "execute_result"
    }
   ],
   "source": [
    "data1.iloc[0,1]"
   ]
  },
  {
   "cell_type": "code",
   "execution_count": 13,
   "metadata": {},
   "outputs": [
    {
     "data": {
      "text/plain": [
       "u'Adjusted net enrollment rate, primary, female (% of primary school age children)'"
      ]
     },
     "execution_count": 13,
     "metadata": {},
     "output_type": "execute_result"
    }
   ],
   "source": [
    "data1.iloc[1,1]"
   ]
  },
  {
   "cell_type": "code",
   "execution_count": 14,
   "metadata": {},
   "outputs": [
    {
     "data": {
      "text/plain": [
       "u'Adjusted net enrollment rate, primary, male (% of primary school age children)'"
      ]
     },
     "execution_count": 14,
     "metadata": {},
     "output_type": "execute_result"
    }
   ],
   "source": [
    "data1.iloc[2,1]"
   ]
  },
  {
   "cell_type": "code",
   "execution_count": null,
   "metadata": {},
   "outputs": [],
   "source": []
  }
 ],
 "metadata": {
  "kernelspec": {
   "display_name": "Python 2",
   "language": "python",
   "name": "python2"
  },
  "language_info": {
   "codemirror_mode": {
    "name": "ipython",
    "version": 2
   },
   "file_extension": ".py",
   "mimetype": "text/x-python",
   "name": "python",
   "nbconvert_exporter": "python",
   "pygments_lexer": "ipython2",
   "version": "2.7.15"
  }
 },
 "nbformat": 4,
 "nbformat_minor": 2
}
